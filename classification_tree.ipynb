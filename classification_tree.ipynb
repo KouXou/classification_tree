{
  "nbformat": 4,
  "nbformat_minor": 0,
  "metadata": {
    "colab": {
      "name": "classification_tree.ipynb",
      "provenance": []
    },
    "kernelspec": {
      "name": "python3",
      "display_name": "Python 3"
    }
  },
  "cells": [
    {
      "cell_type": "code",
      "metadata": {
        "id": "FRg3DMtI_dAt",
        "colab_type": "code",
        "colab": {}
      },
      "source": [
        "import pandas as pd\n",
        "import numpy as np\n",
        "import scipy as sp\n",
        "from sklearn.model_selection import train_test_split # Import train_test_split function\n",
        "from sklearn.tree import DecisionTreeClassifier # Import Decision Tree Classifier\n",
        "from sklearn.tree import export_graphviz\n",
        "from sklearn import tree\n",
        "from sklearn.datasets import load_wine\n",
        "from IPython.display import SVG\n",
        "from graphviz import Source\n",
        "from IPython.display import display\n",
        "from sklearn import metrics"
      ],
      "execution_count": 0,
      "outputs": []
    },
    {
      "cell_type": "code",
      "metadata": {
        "id": "KK1mD4yO_npG",
        "colab_type": "code",
        "colab": {}
      },
      "source": [
        "#read data from csv\n",
        "data = pd.read_csv('http://gunet2.cs.unipi.gr/modules/document/file.php/TMI100/Datasets/bankruptcy.csv')\n",
        "#set name of target variable (column name)\n",
        "target_var = 'Bankrupt'\n",
        "#set criterion [\"gini\", \"entropy\"]\n",
        "criterion = 'entropy'"
      ],
      "execution_count": 0,
      "outputs": []
    },
    {
      "cell_type": "code",
      "metadata": {
        "id": "ey_KltLQABs_",
        "colab_type": "code",
        "colab": {
          "base_uri": "https://localhost:8080/",
          "height": 204
        },
        "outputId": "ccf013f6-1639-4377-a6f2-3d2a4d9c86c8"
      },
      "source": [
        "#show 5 random rows\n",
        "data.sample(n=5)"
      ],
      "execution_count": 3,
      "outputs": [
        {
          "output_type": "execute_result",
          "data": {
            "text/html": [
              "<div>\n",
              "<style scoped>\n",
              "    .dataframe tbody tr th:only-of-type {\n",
              "        vertical-align: middle;\n",
              "    }\n",
              "\n",
              "    .dataframe tbody tr th {\n",
              "        vertical-align: top;\n",
              "    }\n",
              "\n",
              "    .dataframe thead th {\n",
              "        text-align: right;\n",
              "    }\n",
              "</style>\n",
              "<table border=\"1\" class=\"dataframe\">\n",
              "  <thead>\n",
              "    <tr style=\"text-align: right;\">\n",
              "      <th></th>\n",
              "      <th>Company</th>\n",
              "      <th>WC/TA</th>\n",
              "      <th>RE/TA</th>\n",
              "      <th>EBIT/TA</th>\n",
              "      <th>S/TA</th>\n",
              "      <th>BVE/BVL</th>\n",
              "      <th>Bankrupt</th>\n",
              "    </tr>\n",
              "  </thead>\n",
              "  <tbody>\n",
              "    <tr>\n",
              "      <th>43</th>\n",
              "      <td>Qwest</td>\n",
              "      <td>-6.1</td>\n",
              "      <td>0.0</td>\n",
              "      <td>9.4</td>\n",
              "      <td>22.6</td>\n",
              "      <td>2.123</td>\n",
              "      <td>no</td>\n",
              "    </tr>\n",
              "    <tr>\n",
              "      <th>4</th>\n",
              "      <td>Convergent Communications</td>\n",
              "      <td>26.1</td>\n",
              "      <td>-57.4</td>\n",
              "      <td>-23.5</td>\n",
              "      <td>54.2</td>\n",
              "      <td>0.855</td>\n",
              "      <td>yes</td>\n",
              "    </tr>\n",
              "    <tr>\n",
              "      <th>45</th>\n",
              "      <td>Telephone and Data Systems</td>\n",
              "      <td>-5.3</td>\n",
              "      <td>31.0</td>\n",
              "      <td>4.9</td>\n",
              "      <td>26.9</td>\n",
              "      <td>1.362</td>\n",
              "      <td>no</td>\n",
              "    </tr>\n",
              "    <tr>\n",
              "      <th>12</th>\n",
              "      <td>Metricom</td>\n",
              "      <td>33.9</td>\n",
              "      <td>-46.5</td>\n",
              "      <td>-17.5</td>\n",
              "      <td>0.9</td>\n",
              "      <td>0.828</td>\n",
              "      <td>yes</td>\n",
              "    </tr>\n",
              "    <tr>\n",
              "      <th>41</th>\n",
              "      <td>Openwave Systems</td>\n",
              "      <td>20.3</td>\n",
              "      <td>-61.3</td>\n",
              "      <td>1.9</td>\n",
              "      <td>27.0</td>\n",
              "      <td>35.178</td>\n",
              "      <td>no</td>\n",
              "    </tr>\n",
              "  </tbody>\n",
              "</table>\n",
              "</div>"
            ],
            "text/plain": [
              "                       Company  WC/TA  RE/TA  EBIT/TA  S/TA  BVE/BVL Bankrupt\n",
              "43                       Qwest   -6.1    0.0      9.4  22.6    2.123       no\n",
              "4    Convergent Communications   26.1  -57.4    -23.5  54.2    0.855      yes\n",
              "45  Telephone and Data Systems   -5.3   31.0      4.9  26.9    1.362       no\n",
              "12                    Metricom   33.9  -46.5    -17.5   0.9    0.828      yes\n",
              "41            Openwave Systems   20.3  -61.3      1.9  27.0   35.178       no"
            ]
          },
          "metadata": {
            "tags": []
          },
          "execution_count": 3
        }
      ]
    },
    {
      "cell_type": "code",
      "metadata": {
        "id": "x6SvIY1OAF0T",
        "colab_type": "code",
        "colab": {
          "base_uri": "https://localhost:8080/",
          "height": 34
        },
        "outputId": "a0ffeed1-73fd-4be2-9c18-9d025201913d"
      },
      "source": [
        "#Get data columns\n",
        "columns = list(data.columns)\n",
        "columns"
      ],
      "execution_count": 4,
      "outputs": [
        {
          "output_type": "execute_result",
          "data": {
            "text/plain": [
              "['Company', 'WC/TA', 'RE/TA', 'EBIT/TA', 'S/TA', 'BVE/BVL', 'Bankrupt']"
            ]
          },
          "metadata": {
            "tags": []
          },
          "execution_count": 4
        }
      ]
    },
    {
      "cell_type": "code",
      "metadata": {
        "id": "TFejjkotBV10",
        "colab_type": "code",
        "colab": {
          "base_uri": "https://localhost:8080/",
          "height": 34
        },
        "outputId": "2c42de09-ceff-4efd-ce81-4cc8492e8400"
      },
      "source": [
        "#create feature columns by removing target variable\n",
        "# 'Company' column \n",
        "feature_cols = [x for x in columns if x not in ['Company', target_var]]\n",
        "feature_cols"
      ],
      "execution_count": 5,
      "outputs": [
        {
          "output_type": "execute_result",
          "data": {
            "text/plain": [
              "['WC/TA', 'RE/TA', 'EBIT/TA', 'S/TA', 'BVE/BVL']"
            ]
          },
          "metadata": {
            "tags": []
          },
          "execution_count": 5
        }
      ]
    },
    {
      "cell_type": "code",
      "metadata": {
        "id": "mSI58hVFH84r",
        "colab_type": "code",
        "colab": {}
      },
      "source": [
        "X = data[feature_cols] # Features\n",
        "y = data[target_var] # Target variable"
      ],
      "execution_count": 0,
      "outputs": []
    },
    {
      "cell_type": "code",
      "metadata": {
        "id": "KSQQV7uTNI9q",
        "colab_type": "code",
        "colab": {}
      },
      "source": [
        "# Split dataset into training set and test set\n",
        "X_train, X_test, y_train, y_test = train_test_split(X, y, test_size=0.3, random_state=1) # 70% training and 30% test"
      ],
      "execution_count": 0,
      "outputs": []
    },
    {
      "cell_type": "code",
      "metadata": {
        "id": "kvvqE5sMDM8p",
        "colab_type": "code",
        "colab": {}
      },
      "source": [
        "# Create Decision Tree classifer object\n",
        "clf = DecisionTreeClassifier(criterion=criterion)\n",
        "\n",
        "# Train Decision Tree Classifer\n",
        "clf = clf.fit(X_train,y_train)\n"
      ],
      "execution_count": 0,
      "outputs": []
    },
    {
      "cell_type": "code",
      "metadata": {
        "id": "a-6OXr1LHylG",
        "colab_type": "code",
        "colab": {
          "base_uri": "https://localhost:8080/",
          "height": 598
        },
        "outputId": "11cef893-565e-4b9e-aa28-ed175a575957"
      },
      "source": [
        "graph = Source(tree.export_graphviz(clf, out_file=None\n",
        "   , feature_names=feature_cols, class_names=['0', '1', '2'] \n",
        "   , filled = True))\n",
        "display(SVG(graph.pipe(format='svg')))"
      ],
      "execution_count": 15,
      "outputs": [
        {
          "output_type": "display_data",
          "data": {
            "text/plain": [
              "<IPython.core.display.SVG object>"
            ],
            "image/svg+xml": "<svg height=\"433pt\" viewBox=\"0.00 0.00 520.50 433.00\" width=\"521pt\" xmlns=\"http://www.w3.org/2000/svg\" xmlns:xlink=\"http://www.w3.org/1999/xlink\">\n<g class=\"graph\" id=\"graph0\" transform=\"scale(1 1) rotate(0) translate(4 429)\">\n<title>Tree</title>\n<polygon fill=\"#ffffff\" points=\"-4,4 -4,-429 516.5,-429 516.5,4 -4,4\" stroke=\"transparent\"/>\n<!-- 0 -->\n<g class=\"node\" id=\"node1\">\n<title>0</title>\n<polygon fill=\"#bddef6\" points=\"343,-425 222,-425 222,-342 343,-342 343,-425\" stroke=\"#000000\"/>\n<text fill=\"#000000\" font-family=\"Times,serif\" font-size=\"14.00\" text-anchor=\"middle\" x=\"282.5\" y=\"-409.8\">EBIT/TA &lt;= 1.75</text>\n<text fill=\"#000000\" font-family=\"Times,serif\" font-size=\"14.00\" text-anchor=\"middle\" x=\"282.5\" y=\"-394.8\">entropy = 0.971</text>\n<text fill=\"#000000\" font-family=\"Times,serif\" font-size=\"14.00\" text-anchor=\"middle\" x=\"282.5\" y=\"-379.8\">samples = 35</text>\n<text fill=\"#000000\" font-family=\"Times,serif\" font-size=\"14.00\" text-anchor=\"middle\" x=\"282.5\" y=\"-364.8\">value = [14, 21]</text>\n<text fill=\"#000000\" font-family=\"Times,serif\" font-size=\"14.00\" text-anchor=\"middle\" x=\"282.5\" y=\"-349.8\">class = 1</text>\n</g>\n<!-- 1 -->\n<g class=\"node\" id=\"node2\">\n<title>1</title>\n<polygon fill=\"#4da7e8\" points=\"273.5,-306 163.5,-306 163.5,-223 273.5,-223 273.5,-306\" stroke=\"#000000\"/>\n<text fill=\"#000000\" font-family=\"Times,serif\" font-size=\"14.00\" text-anchor=\"middle\" x=\"218.5\" y=\"-290.8\">S/TA &lt;= 3.8</text>\n<text fill=\"#000000\" font-family=\"Times,serif\" font-size=\"14.00\" text-anchor=\"middle\" x=\"218.5\" y=\"-275.8\">entropy = 0.439</text>\n<text fill=\"#000000\" font-family=\"Times,serif\" font-size=\"14.00\" text-anchor=\"middle\" x=\"218.5\" y=\"-260.8\">samples = 22</text>\n<text fill=\"#000000\" font-family=\"Times,serif\" font-size=\"14.00\" text-anchor=\"middle\" x=\"218.5\" y=\"-245.8\">value = [2, 20]</text>\n<text fill=\"#000000\" font-family=\"Times,serif\" font-size=\"14.00\" text-anchor=\"middle\" x=\"218.5\" y=\"-230.8\">class = 1</text>\n</g>\n<!-- 0&#45;&gt;1 -->\n<g class=\"edge\" id=\"edge1\">\n<title>0-&gt;1</title>\n<path d=\"M260.1159,-341.8796C255.5144,-333.3236 250.6204,-324.2238 245.8658,-315.3833\" fill=\"none\" stroke=\"#000000\"/>\n<polygon fill=\"#000000\" points=\"248.7988,-313.4473 240.9796,-306.2981 242.6338,-316.763 248.7988,-313.4473\" stroke=\"#000000\"/>\n<text fill=\"#000000\" font-family=\"Times,serif\" font-size=\"14.00\" text-anchor=\"middle\" x=\"233.7839\" y=\"-326.5401\">True</text>\n</g>\n<!-- 6 -->\n<g class=\"node\" id=\"node7\">\n<title>6</title>\n<polygon fill=\"#e78c49\" points=\"403.5,-306 291.5,-306 291.5,-223 403.5,-223 403.5,-306\" stroke=\"#000000\"/>\n<text fill=\"#000000\" font-family=\"Times,serif\" font-size=\"14.00\" text-anchor=\"middle\" x=\"347.5\" y=\"-290.8\">RE/TA &lt;= -91.3</text>\n<text fill=\"#000000\" font-family=\"Times,serif\" font-size=\"14.00\" text-anchor=\"middle\" x=\"347.5\" y=\"-275.8\">entropy = 0.391</text>\n<text fill=\"#000000\" font-family=\"Times,serif\" font-size=\"14.00\" text-anchor=\"middle\" x=\"347.5\" y=\"-260.8\">samples = 13</text>\n<text fill=\"#000000\" font-family=\"Times,serif\" font-size=\"14.00\" text-anchor=\"middle\" x=\"347.5\" y=\"-245.8\">value = [12, 1]</text>\n<text fill=\"#000000\" font-family=\"Times,serif\" font-size=\"14.00\" text-anchor=\"middle\" x=\"347.5\" y=\"-230.8\">class = 0</text>\n</g>\n<!-- 0&#45;&gt;6 -->\n<g class=\"edge\" id=\"edge6\">\n<title>0-&gt;6</title>\n<path d=\"M305.2338,-341.8796C309.9565,-333.2335 314.9824,-324.0322 319.859,-315.1042\" fill=\"none\" stroke=\"#000000\"/>\n<polygon fill=\"#000000\" points=\"322.947,-316.752 324.6691,-306.2981 316.8037,-313.3964 322.947,-316.752\" stroke=\"#000000\"/>\n<text fill=\"#000000\" font-family=\"Times,serif\" font-size=\"14.00\" text-anchor=\"middle\" x=\"331.7092\" y=\"-326.5864\">False</text>\n</g>\n<!-- 2 -->\n<g class=\"node\" id=\"node3\">\n<title>2</title>\n<polygon fill=\"#ffffff\" points=\"152,-187 55,-187 55,-104 152,-104 152,-187\" stroke=\"#000000\"/>\n<text fill=\"#000000\" font-family=\"Times,serif\" font-size=\"14.00\" text-anchor=\"middle\" x=\"103.5\" y=\"-171.8\">S/TA &lt;= 1.55</text>\n<text fill=\"#000000\" font-family=\"Times,serif\" font-size=\"14.00\" text-anchor=\"middle\" x=\"103.5\" y=\"-156.8\">entropy = 1.0</text>\n<text fill=\"#000000\" font-family=\"Times,serif\" font-size=\"14.00\" text-anchor=\"middle\" x=\"103.5\" y=\"-141.8\">samples = 4</text>\n<text fill=\"#000000\" font-family=\"Times,serif\" font-size=\"14.00\" text-anchor=\"middle\" x=\"103.5\" y=\"-126.8\">value = [2, 2]</text>\n<text fill=\"#000000\" font-family=\"Times,serif\" font-size=\"14.00\" text-anchor=\"middle\" x=\"103.5\" y=\"-111.8\">class = 0</text>\n</g>\n<!-- 1&#45;&gt;2 -->\n<g class=\"edge\" id=\"edge2\">\n<title>1-&gt;2</title>\n<path d=\"M178.2786,-222.8796C169.488,-213.7832 160.1034,-204.0722 151.0574,-194.7116\" fill=\"none\" stroke=\"#000000\"/>\n<polygon fill=\"#000000\" points=\"153.3591,-192.0568 143.8931,-187.2981 148.3255,-196.9212 153.3591,-192.0568\" stroke=\"#000000\"/>\n</g>\n<!-- 5 -->\n<g class=\"node\" id=\"node6\">\n<title>5</title>\n<polygon fill=\"#399de5\" points=\"272.5,-179.5 170.5,-179.5 170.5,-111.5 272.5,-111.5 272.5,-179.5\" stroke=\"#000000\"/>\n<text fill=\"#000000\" font-family=\"Times,serif\" font-size=\"14.00\" text-anchor=\"middle\" x=\"221.5\" y=\"-164.3\">entropy = 0.0</text>\n<text fill=\"#000000\" font-family=\"Times,serif\" font-size=\"14.00\" text-anchor=\"middle\" x=\"221.5\" y=\"-149.3\">samples = 18</text>\n<text fill=\"#000000\" font-family=\"Times,serif\" font-size=\"14.00\" text-anchor=\"middle\" x=\"221.5\" y=\"-134.3\">value = [0, 18]</text>\n<text fill=\"#000000\" font-family=\"Times,serif\" font-size=\"14.00\" text-anchor=\"middle\" x=\"221.5\" y=\"-119.3\">class = 1</text>\n</g>\n<!-- 1&#45;&gt;5 -->\n<g class=\"edge\" id=\"edge5\">\n<title>1-&gt;5</title>\n<path d=\"M219.5493,-222.8796C219.8182,-212.2134 220.1084,-200.7021 220.3806,-189.9015\" fill=\"none\" stroke=\"#000000\"/>\n<polygon fill=\"#000000\" points=\"223.8817,-189.9 220.6349,-179.8149 216.8839,-189.7235 223.8817,-189.9\" stroke=\"#000000\"/>\n</g>\n<!-- 3 -->\n<g class=\"node\" id=\"node4\">\n<title>3</title>\n<polygon fill=\"#399de5\" points=\"95,-68 0,-68 0,0 95,0 95,-68\" stroke=\"#000000\"/>\n<text fill=\"#000000\" font-family=\"Times,serif\" font-size=\"14.00\" text-anchor=\"middle\" x=\"47.5\" y=\"-52.8\">entropy = 0.0</text>\n<text fill=\"#000000\" font-family=\"Times,serif\" font-size=\"14.00\" text-anchor=\"middle\" x=\"47.5\" y=\"-37.8\">samples = 2</text>\n<text fill=\"#000000\" font-family=\"Times,serif\" font-size=\"14.00\" text-anchor=\"middle\" x=\"47.5\" y=\"-22.8\">value = [0, 2]</text>\n<text fill=\"#000000\" font-family=\"Times,serif\" font-size=\"14.00\" text-anchor=\"middle\" x=\"47.5\" y=\"-7.8\">class = 1</text>\n</g>\n<!-- 2&#45;&gt;3 -->\n<g class=\"edge\" id=\"edge3\">\n<title>2-&gt;3</title>\n<path d=\"M82.6477,-103.9815C78.2625,-95.2504 73.6267,-86.0202 69.211,-77.2281\" fill=\"none\" stroke=\"#000000\"/>\n<polygon fill=\"#000000\" points=\"72.3246,-75.6291 64.7087,-68.2637 66.0692,-78.7708 72.3246,-75.6291\" stroke=\"#000000\"/>\n</g>\n<!-- 4 -->\n<g class=\"node\" id=\"node5\">\n<title>4</title>\n<polygon fill=\"#e58139\" points=\"208,-68 113,-68 113,0 208,0 208,-68\" stroke=\"#000000\"/>\n<text fill=\"#000000\" font-family=\"Times,serif\" font-size=\"14.00\" text-anchor=\"middle\" x=\"160.5\" y=\"-52.8\">entropy = 0.0</text>\n<text fill=\"#000000\" font-family=\"Times,serif\" font-size=\"14.00\" text-anchor=\"middle\" x=\"160.5\" y=\"-37.8\">samples = 2</text>\n<text fill=\"#000000\" font-family=\"Times,serif\" font-size=\"14.00\" text-anchor=\"middle\" x=\"160.5\" y=\"-22.8\">value = [2, 0]</text>\n<text fill=\"#000000\" font-family=\"Times,serif\" font-size=\"14.00\" text-anchor=\"middle\" x=\"160.5\" y=\"-7.8\">class = 0</text>\n</g>\n<!-- 2&#45;&gt;4 -->\n<g class=\"edge\" id=\"edge4\">\n<title>2-&gt;4</title>\n<path d=\"M124.7247,-103.9815C129.1881,-95.2504 133.9067,-86.0202 138.4013,-77.2281\" fill=\"none\" stroke=\"#000000\"/>\n<polygon fill=\"#000000\" points=\"141.5486,-78.7608 142.984,-68.2637 135.3158,-75.5745 141.5486,-78.7608\" stroke=\"#000000\"/>\n</g>\n<!-- 7 -->\n<g class=\"node\" id=\"node8\">\n<title>7</title>\n<polygon fill=\"#399de5\" points=\"392,-179.5 297,-179.5 297,-111.5 392,-111.5 392,-179.5\" stroke=\"#000000\"/>\n<text fill=\"#000000\" font-family=\"Times,serif\" font-size=\"14.00\" text-anchor=\"middle\" x=\"344.5\" y=\"-164.3\">entropy = 0.0</text>\n<text fill=\"#000000\" font-family=\"Times,serif\" font-size=\"14.00\" text-anchor=\"middle\" x=\"344.5\" y=\"-149.3\">samples = 1</text>\n<text fill=\"#000000\" font-family=\"Times,serif\" font-size=\"14.00\" text-anchor=\"middle\" x=\"344.5\" y=\"-134.3\">value = [0, 1]</text>\n<text fill=\"#000000\" font-family=\"Times,serif\" font-size=\"14.00\" text-anchor=\"middle\" x=\"344.5\" y=\"-119.3\">class = 1</text>\n</g>\n<!-- 6&#45;&gt;7 -->\n<g class=\"edge\" id=\"edge7\">\n<title>6-&gt;7</title>\n<path d=\"M346.4507,-222.8796C346.1818,-212.2134 345.8916,-200.7021 345.6194,-189.9015\" fill=\"none\" stroke=\"#000000\"/>\n<polygon fill=\"#000000\" points=\"349.1161,-189.7235 345.3651,-179.8149 342.1183,-189.9 349.1161,-189.7235\" stroke=\"#000000\"/>\n</g>\n<!-- 8 -->\n<g class=\"node\" id=\"node9\">\n<title>8</title>\n<polygon fill=\"#e58139\" points=\"512.5,-179.5 410.5,-179.5 410.5,-111.5 512.5,-111.5 512.5,-179.5\" stroke=\"#000000\"/>\n<text fill=\"#000000\" font-family=\"Times,serif\" font-size=\"14.00\" text-anchor=\"middle\" x=\"461.5\" y=\"-164.3\">entropy = 0.0</text>\n<text fill=\"#000000\" font-family=\"Times,serif\" font-size=\"14.00\" text-anchor=\"middle\" x=\"461.5\" y=\"-149.3\">samples = 12</text>\n<text fill=\"#000000\" font-family=\"Times,serif\" font-size=\"14.00\" text-anchor=\"middle\" x=\"461.5\" y=\"-134.3\">value = [12, 0]</text>\n<text fill=\"#000000\" font-family=\"Times,serif\" font-size=\"14.00\" text-anchor=\"middle\" x=\"461.5\" y=\"-119.3\">class = 0</text>\n</g>\n<!-- 6&#45;&gt;8 -->\n<g class=\"edge\" id=\"edge8\">\n<title>6-&gt;8</title>\n<path d=\"M387.3717,-222.8796C398.4324,-211.3337 410.4418,-198.7976 421.5094,-187.2446\" fill=\"none\" stroke=\"#000000\"/>\n<polygon fill=\"#000000\" points=\"424.2365,-189.4573 428.6269,-179.8149 419.1817,-184.6149 424.2365,-189.4573\" stroke=\"#000000\"/>\n</g>\n</g>\n</svg>"
          },
          "metadata": {
            "tags": []
          }
        }
      ]
    },
    {
      "cell_type": "code",
      "metadata": {
        "id": "_jjKvOf9JmRt",
        "colab_type": "code",
        "colab": {}
      },
      "source": [
        "#Predict the response for test dataset\n",
        "y_pred = clf.predict(X_test)"
      ],
      "execution_count": 0,
      "outputs": []
    },
    {
      "cell_type": "code",
      "metadata": {
        "id": "qAsjr2ONMjQV",
        "colab_type": "code",
        "colab": {
          "base_uri": "https://localhost:8080/",
          "height": 34
        },
        "outputId": "076da5af-ea1b-4657-c13e-d37124f127df"
      },
      "source": [
        "# Model Accuracy, how often is the classifier correct?\n",
        "print(\"Accuracy:\",metrics.accuracy_score(y_test, y_pred))"
      ],
      "execution_count": 20,
      "outputs": [
        {
          "output_type": "stream",
          "text": [
            "Accuracy: 0.7333333333333333\n"
          ],
          "name": "stdout"
        }
      ]
    },
    {
      "cell_type": "code",
      "metadata": {
        "id": "W646NVKOMu4X",
        "colab_type": "code",
        "colab": {}
      },
      "source": [
        ""
      ],
      "execution_count": 0,
      "outputs": []
    }
  ]
}